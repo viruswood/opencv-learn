{
 "cells": [
  {
   "cell_type": "markdown",
   "metadata": {},
   "source": [
    "### 梯度运算\n",
    "先膨胀 再腐蚀 再膨胀减去腐蚀 得到边界信息"
   ]
  },
  {
   "cell_type": "code",
   "execution_count": 2,
   "metadata": {},
   "outputs": [],
   "source": [
    "import cv2 as cv\n",
    "import matplotlib.pyplot as plt\n",
    "import numpy as np\n",
    "%matplotlib inline"
   ]
  },
  {
   "cell_type": "code",
   "execution_count": 6,
   "metadata": {},
   "outputs": [],
   "source": [
    "pie= cv.imread('data\\pie.png')\n",
    "kernel = np.ones((5,5),np.uint8)\n",
    "gradient = cv.morphologyEx(pie,cv.MORPH_GRADIENT,kernel)\n",
    "cv.imshow('gradient',gradient)\n",
    "cv.waitKey(0)\n",
    "cv.destroyAllWindows()"
   ]
  },
  {
   "cell_type": "markdown",
   "metadata": {},
   "source": [
    "### 礼貌与黑帽\n",
    "礼貌= 原始输入-开运算\n",
    "黑帽= 闭运算 - 原始输入"
   ]
  },
  {
   "cell_type": "code",
   "execution_count": 13,
   "metadata": {},
   "outputs": [],
   "source": [
    "#礼帽 剩下刺\n",
    "img = cv.imread('data/dige.png')\n",
    "tophat = cv.morphologyEx(img, cv.MORPH_TOPHAT, kernel)\n",
    "cv.imshow('tophat', tophat)\n",
    "cv.waitKey(0)\n",
    "cv.destroyAllWindows()"
   ]
  },
  {
   "cell_type": "code",
   "execution_count": 11,
   "metadata": {},
   "outputs": [],
   "source": [
    "#黑帽 留下轮廓\n",
    "img = cv.imread('data/dige.png')\n",
    "blackhat  = cv.morphologyEx(img,cv.MORPH_BLACKHAT, kernel)\n",
    "cv.imshow('blackhat ', blackhat )\n",
    "cv.waitKey(0)\n",
    "cv.destroyAllWindows()"
   ]
  },
  {
   "cell_type": "code",
   "execution_count": null,
   "metadata": {},
   "outputs": [],
   "source": []
  }
 ],
 "metadata": {
  "kernelspec": {
   "display_name": "Python 3",
   "language": "python",
   "name": "python3"
  },
  "language_info": {
   "codemirror_mode": {
    "name": "ipython",
    "version": 3
   },
   "file_extension": ".py",
   "mimetype": "text/x-python",
   "name": "python",
   "nbconvert_exporter": "python",
   "pygments_lexer": "ipython3",
   "version": "3.7.4"
  }
 },
 "nbformat": 4,
 "nbformat_minor": 2
}
